{
 "cells": [
  {
   "cell_type": "code",
   "execution_count": 1,
   "metadata": {},
   "outputs": [],
   "source": [
    "import gc\n",
    "\n",
    "import pandas as pd\n",
    "import numpy as np\n",
    "\n",
    "from sklearn.preprocessing import LabelEncoder\n",
    "\n",
    "import optuna\n",
    "import lightgbm as lgb\n",
    "\n",
    "from sklearn.metrics import mean_squared_error\n",
    "\n",
    "import warnings\n",
    "warnings.filterwarnings('ignore')"
   ]
  },
  {
   "cell_type": "code",
   "execution_count": 2,
   "metadata": {},
   "outputs": [],
   "source": [
    "def reduce_mem_usage(df, verbose=True):\n",
    "    numerics = ['int16', 'int32', 'int64', 'float16', 'float32', 'float64']\n",
    "    start_mem = df.memory_usage().sum() / 1024**2    \n",
    "    for col in df.columns:\n",
    "        col_type = df[col].dtypes\n",
    "        if col_type in numerics:\n",
    "            c_min = df[col].min()\n",
    "            c_max = df[col].max()\n",
    "            if str(col_type)[:3] == 'int':\n",
    "                if c_min > np.iinfo(np.int8).min and c_max < np.iinfo(np.int8).max:\n",
    "                    df[col] = df[col].astype(np.int8)\n",
    "                elif c_min > np.iinfo(np.int16).min and c_max < np.iinfo(np.int16).max:\n",
    "                    df[col] = df[col].astype(np.int16)\n",
    "                elif c_min > np.iinfo(np.int32).min and c_max < np.iinfo(np.int32).max:\n",
    "                    df[col] = df[col].astype(np.int32)\n",
    "                elif c_min > np.iinfo(np.int64).min and c_max < np.iinfo(np.int64).max:\n",
    "                    df[col] = df[col].astype(np.int64)  \n",
    "            else:\n",
    "                if c_min > np.finfo(np.float16).min and c_max < np.finfo(np.float16).max:\n",
    "                    df[col] = df[col].astype(np.float16)\n",
    "                elif c_min > np.finfo(np.float32).min and c_max < np.finfo(np.float32).max:\n",
    "                    df[col] = df[col].astype(np.float32)\n",
    "                else:\n",
    "                    df[col] = df[col].astype(np.float64)    \n",
    "    end_mem = df.memory_usage().sum() / 1024**2\n",
    "    if verbose: print('Mem. usage decreased to {:5.2f} Mb ({:.1f}% reduction)'.format(end_mem, 100 * (start_mem - end_mem) / start_mem))\n",
    "    return df"
   ]
  },
  {
   "cell_type": "code",
   "execution_count": 3,
   "metadata": {},
   "outputs": [],
   "source": [
    "def replace_inf2nan(df):\n",
    "    df = df.replace(np.inf, np.nan)\n",
    "    df = df.replace(-np.inf, np.nan)\n",
    "    return df"
   ]
  },
  {
   "cell_type": "code",
   "execution_count": 4,
   "metadata": {},
   "outputs": [],
   "source": [
    "sales_train_validation = reduce_mem_usage(pd.read_csv('./m5-forecasting-accuracy/sales_train_validation.csv'))\n",
    "sell_prices            = reduce_mem_usage(pd.read_csv('./m5-forecasting-accuracy/sell_prices.csv'))\n",
    "calendar               = reduce_mem_usage(pd.read_csv('./m5-forecasting-accuracy/calendar.csv'))\n",
    "sample_submission      = reduce_mem_usage(pd.read_csv('./m5-forecasting-accuracy/sample_submission.csv'))"
   ]
  },
  {
   "cell_type": "markdown",
   "metadata": {},
   "source": [
    "# Make Base Dataset"
   ]
  },
  {
   "cell_type": "code",
   "execution_count": 5,
   "metadata": {},
   "outputs": [],
   "source": [
    "idsList = ['id', 'item_id', 'dept_id', 'cat_id', 'store_id', 'state_id']\n",
    "\n",
    "sales_train_validation = sales_train_validation.melt(id_vars=idsList, var_name='d', value_name='target')\n",
    "\n",
    "test1_rows = [row for row in sample_submission['id'] if 'validation' in row]\n",
    "test2_rows = [row for row in sample_submission['id'] if 'evaluation' in row]\n",
    "test1 = sample_submission[sample_submission['id'].isin(test1_rows)]\n",
    "test2 = sample_submission[sample_submission['id'].isin(test2_rows)]\n",
    "\n",
    "test1.columns = ['id', 'd_1914', 'd_1915', 'd_1916', 'd_1917', 'd_1918', 'd_1919', 'd_1920', 'd_1921', 'd_1922', 'd_1923',\n",
    "                 'd_1924', 'd_1925', 'd_1926', 'd_1927', 'd_1928', 'd_1929', 'd_1930', 'd_1931', 'd_1932', 'd_1933', 'd_1934', \n",
    "                 'd_1935', 'd_1936', 'd_1937', 'd_1938', 'd_1939', 'd_1940', 'd_1941']\n",
    "test2.columns = ['id', 'd_1942', 'd_1943', 'd_1944', 'd_1945', 'd_1946', 'd_1947', 'd_1948', 'd_1949', 'd_1950', 'd_1951', \n",
    "                 'd_1952', 'd_1953', 'd_1954', 'd_1955', 'd_1956', 'd_1957', 'd_1958', 'd_1959', 'd_1960', 'd_1961', 'd_1962', \n",
    "                 'd_1963', 'd_1964', 'd_1965', 'd_1966', 'd_1967', 'd_1968', 'd_1969']\n",
    "\n",
    "product = sales_train_validation[idsList].drop_duplicates()\n",
    "\n",
    "test1 = test1.merge(product, how='left', on='id')\n",
    "\n",
    "test2['id'] = test2['id'].str.replace('_evaluation', '_validation')\n",
    "test2 = test2.merge(product, how='left', on='id')\n",
    "test2['id'] = test2['id'].str.replace('_validation', '_evaluation')\n",
    "\n",
    "test1 = pd.melt(test1, id_vars=idsList, var_name='d', value_name='target')\n",
    "test2 = pd.melt(test2, id_vars=idsList, var_name='d', value_name='target')\n",
    "\n",
    "sales_train_validation['part'] = 0\n",
    "test1['part'] = 1\n",
    "test2['part'] = 2\n",
    "\n",
    "train = pd.concat([sales_train_validation, test1, test2], axis=0)\n",
    "\n",
    "submission = train.loc[train['part'].isin([1, 2]), ['id', 'd', 'target']]\n",
    "\n",
    "train['id_'] = train['id'].str.replace('_validation', '')\n",
    "train['id_'] = train['id_'].str.replace('_evaluation', '')\n",
    "\n",
    "del idsList, sales_train_validation, test1_rows, test2_rows, test1, test2, product\n",
    "gc.collect()"
   ]
  },
  {
   "cell_type": "markdown",
   "metadata": {},
   "source": [
    "# Make Calendar Data"
   ]
  },
  {
   "cell_type": "code",
   "execution_count": 6,
   "metadata": {},
   "outputs": [],
   "source": [
    "calendar['day'] = calendar['date'].str[8:10]\n",
    "calendar['month_day'] = calendar['month'].astype(str) + calendar['day'].astype(str)\n",
    "\n",
    "calendar['Christmas'] = (calendar['date'].str[5:]=='12-25').astype(int)\n",
    "calendar['BlackFriday'] = (calendar['date'].str[5:].isin(['2011-11-25', '2012-11-23', '2013-11-29', '2014-11-28', '2015-11-27'])).astype(int)\n",
    "\n",
    "calendar.loc[calendar['BlackFriday']==1, 'event_name_1'] = 'BlackFriday'\n",
    "calendar.loc[calendar['BlackFriday']==1, 'event_type_1'] = 'other'\n",
    "\n",
    "calendar.fillna('NoEvent', inplace=True)\n",
    "\n",
    "calendar['yesterday_event'] = calendar['event_name_1'].shift(1)\n",
    "calendar['tommorrow_event'] = calendar['event_name_1'].shift(-1)\n",
    "\n",
    "calendar['month_day'] = calendar['month'].astype(str) + calendar['day'].astype(str)\n",
    "\n",
    "calendar['weekend'] = (calendar['weekday'].isin(['Saturday', 'Sunday'])).astype(int)\n",
    "calendar.loc[calendar['event_type_1']=='National', 'weekend'] = 1"
   ]
  },
  {
   "cell_type": "markdown",
   "metadata": {},
   "source": [
    "# Make Prices Data"
   ]
  },
  {
   "cell_type": "code",
   "execution_count": 7,
   "metadata": {},
   "outputs": [],
   "source": [
    "price_mode = pd.DataFrame(sell_prices.groupby(['item_id'])['sell_price'].apply(lambda x: x.mode()))\n",
    "price_mode = price_mode.reset_index()[['item_id', 'sell_price']]\n",
    "price_mode = price_mode.rename(columns={'sell_price':'standard_price'})\n",
    "\n",
    "sell_prices = sell_prices.merge(price_mode, on='item_id', how='left')\n",
    "sell_prices['discount_rate'] = sell_prices['sell_price'] / sell_prices['standard_price']\n",
    "\n",
    "price_mean = sell_prices[['item_id', 'sell_price']].groupby('item_id').mean().rename(columns={'sell_price':'sell_price_mean'})\n",
    "price_mean = pd.DataFrame(price_mean).reset_index()\n",
    "price_std = sell_prices[['item_id', 'sell_price']].groupby('item_id').std().rename(columns={'sell_price':'sell_price_std'})\n",
    "price_std = pd.DataFrame(price_std).reset_index()\n",
    "price_max = sell_prices[['item_id', 'sell_price']].groupby('item_id').max().rename(columns={'sell_price':'sell_price_max'})\n",
    "price_max = pd.DataFrame(price_max).reset_index()\n",
    "price_min = sell_prices[['item_id', 'sell_price']].groupby('item_id').min().rename(columns={'sell_price':'sell_price_min'})\n",
    "price_min = pd.DataFrame(price_min).reset_index()\n",
    "\n",
    "# Many NaN\n",
    "# price_skew = sell_prices[['item_id', 'sell_price']].groupby('item_id').skew().rename(columns={'sell_price':'sell_price_skew'})\n",
    "# price_skew = pd.DataFrame(price_skew).reset_index()\n",
    "\n",
    "price_info = pd.DataFrame(columns=['item_id'])\n",
    "price_info = price_info.merge(price_mean, on='item_id', how='outer')\n",
    "price_info = price_info.merge(price_std, on='item_id', how='inner')\n",
    "price_info = price_info.merge(price_max, on='item_id', how='inner')\n",
    "price_info = price_info.merge(price_min, on='item_id', how='inner')\n",
    "#price_info = price_info.merge(price_skew, on='item_id', how='inner')\n",
    "\n",
    "sell_prices = sell_prices.merge(price_info, on='item_id', how='left')\n",
    "\n",
    "del price_mean, price_std, price_max, price_min, price_info #, price_skew\n",
    "gc.collect()"
   ]
  },
  {
   "cell_type": "markdown",
   "metadata": {},
   "source": [
    "# Merge Datas"
   ]
  },
  {
   "cell_type": "code",
   "execution_count": 8,
   "metadata": {},
   "outputs": [],
   "source": [
    "train = train.merge(calendar, on='d', how='left')\n",
    "train = train.merge(sell_prices, on=['store_id', 'item_id', 'wm_yr_wk'], how='left')\n",
    "\n",
    "del calendar, sell_prices\n",
    "train = reduce_mem_usage(train)\n",
    "gc.collect()"
   ]
  },
  {
   "cell_type": "markdown",
   "metadata": {},
   "source": [
    "# FE"
   ]
  },
  {
   "cell_type": "markdown",
   "metadata": {},
   "source": [
    "## Fill Missing Values"
   ]
  },
  {
   "cell_type": "code",
   "execution_count": 9,
   "metadata": {},
   "outputs": [],
   "source": [
    "tmp = pd.DataFrame(train.groupby(['item_id'])[['sell_price', 'standard_price', 'discount_rate']].apply(lambda x: x.mode()))\n",
    "tmp = tmp.reset_index()[['item_id', 'sell_price', 'standard_price', 'discount_rate']]\n",
    "tmp = tmp.rename(columns={'sell_price':'tmp1', 'standard_price':'tmp2', 'discount_rate':'tmp3'})\n",
    "\n",
    "train = train.merge(tmp, on='item_id', how='left')\n",
    "train.loc[train['sell_price'].isnull(), 'sell_price']         = train['tmp1']\n",
    "train.loc[train['standard_price'].isnull(), 'standard_price'] = train['tmp2']\n",
    "train.loc[train['discount_rate'].isnull(), 'discount_rate']   = train['tmp3']\n",
    "train.drop(['tmp1', 'tmp2', 'tmp3'], axis=1, inplace=True)\n",
    "\n",
    "del tmp\n",
    "train = reduce_mem_usage(train)\n",
    "gc.collect()"
   ]
  },
  {
   "cell_type": "markdown",
   "metadata": {},
   "source": [
    "## Snap"
   ]
  },
  {
   "cell_type": "code",
   "execution_count": 10,
   "metadata": {},
   "outputs": [],
   "source": [
    "train['snap'] = 0\n",
    "train.loc[(train['state_id']=='CA')&(train['snap_CA']==1), 'snap'] = 1\n",
    "train.loc[(train['state_id']=='TX')&(train['snap_TX']==1), 'snap'] = 1\n",
    "train.loc[(train['state_id']=='WI')&(train['snap_WI']==1), 'snap'] = 1\n",
    "train.drop(['snap_CA', 'snap_TX', 'snap_WI'], axis=1, inplace=True)\n",
    "\n",
    "train = reduce_mem_usage(train)\n",
    "gc.collect()"
   ]
  },
  {
   "cell_type": "markdown",
   "metadata": {},
   "source": [
    "## Store"
   ]
  },
  {
   "cell_type": "code",
   "execution_count": 11,
   "metadata": {},
   "outputs": [],
   "source": [
    "# train['store_rank'] = 1\n",
    "# train.loc[train['store_id'].isin(['CA_4', 'WI_1']), 'store_rank'] = 0\n",
    "# train.loc[train['store_id'].isin(['CA_1', 'CA_3']), 'store_rank'] = 2\n",
    "\n",
    "# train = reduce_mem_usage(train)\n",
    "# gc.collect()"
   ]
  },
  {
   "cell_type": "markdown",
   "metadata": {},
   "source": [
    "## Event"
   ]
  },
  {
   "cell_type": "code",
   "execution_count": 12,
   "metadata": {},
   "outputs": [],
   "source": [
    "tmp = train[['id_', 'event_name_1', 'target']].groupby(['id_', 'event_name_1'], as_index=False).mean()\n",
    "\n",
    "tmp1 = tmp.loc[tmp['event_name_1']=='NoEvent', ['id_', 'target']]\n",
    "tmp1.columns = ['id_', 'target_no_event']\n",
    "\n",
    "tmp2 = tmp[tmp['event_name_1']!='NoEvent']\n",
    "tmp2.columns = ['id_', 'event', 'target_event']\n",
    "\n",
    "tmp3 = tmp2.merge(tmp1, on='id_', how='left')\n",
    "\n",
    "tmp3['event_up_lift'] = tmp3['target_event'] / tmp3['target_no_event']\n",
    "\n",
    "train = train.merge(tmp3[['id_', 'event', 'event_up_lift']], left_on=['id_', 'event_name_1'], right_on=['id_', 'event'], how='left')\n",
    "\n",
    "train.drop(['event'], axis=1, inplace=True)\n",
    "train['event_up_lift'].fillna(1, inplace=True)\n",
    "\n",
    "del tmp, tmp1, tmp2, tmp3\n",
    "train = reduce_mem_usage(train)\n",
    "gc.collect()"
   ]
  },
  {
   "cell_type": "markdown",
   "metadata": {},
   "source": [
    "## Lag Feature"
   ]
  },
  {
   "cell_type": "code",
   "execution_count": 13,
   "metadata": {},
   "outputs": [],
   "source": [
    "def ref_past(df, col, base, nlist):\n",
    "    for i in nlist:\n",
    "        df[f'{col}_{i}'] = df.groupby([base])[col].apply(lambda x:x.shift(i))\n",
    "        df = reduce_mem_usage(df)\n",
    "        gc.collect()\n",
    "    return df\n",
    "\n",
    "def agg_past(df, col, base, nlist, windowlist):\n",
    "    for n in nlist:\n",
    "        for w in windowlist:\n",
    "            df[f'{col}_{n}_rolling_{w}_mean'] = df.groupby([base])[f'{col}_{n}'].apply(lambda x: x.rolling(w, 1).mean())\n",
    "            df[f'{col}_{n}_rolling_{w}_std'] = df.groupby([base])[f'{col}_{n}'].apply(lambda x: x.rolling(w, 1).std())\n",
    "            df[f'{col}_{n}_rolling_{w}_max'] = df.groupby([base])[f'{col}_{n}'].apply(lambda x: x.rolling(w, 1).max())\n",
    "            df[f'{col}_{n}_rolling_{w}_min'] = df.groupby([base])[f'{col}_{n}'].apply(lambda x: x.rolling(w, 1).min())\n",
    "            \n",
    "            df[f'{col}_{n}_ewm_{w}_mean'] = df.groupby([base])[f'{col}_{n}'].apply(lambda x: x.ewm(span=w).mean())\n",
    "        df = reduce_mem_usage(df)\n",
    "        gc.collect()\n",
    "    return df\n",
    "\n",
    "train = ref_past(train, 'target', 'id_', [28, 56, 180, 365])\n",
    "train = agg_past(train, 'target', 'id_', [28, 56], [7, 28, 90])\n",
    "\n",
    "\n",
    "train['target_rolling_28_56_7_mean'] = train['target_28_rolling_7_mean'] / train['target_56_rolling_7_mean']\n",
    "train['target_rolling_28_56_28_mean'] = train['target_28_rolling_28_mean'] / train['target_56_rolling_28_mean']\n",
    "train['target_rolling_28_56_90_mean'] = train['target_28_rolling_90_mean'] / train['target_56_rolling_90_mean']\n",
    "train['target_ewm_28_56_7_mean'] = train['target_28_ewm_7_mean'] / train['target_56_ewm_7_mean']\n",
    "train['target_ewm_28_56_28_mean'] = train['target_28_ewm_28_mean'] / train['target_56_ewm_28_mean']\n",
    "train['target_ewm_28_56_90_mean'] = train['target_28_ewm_90_mean'] / train['target_56_ewm_90_mean']\n",
    "\n",
    "train = reduce_mem_usage(train)\n",
    "gc.collect()"
   ]
  },
  {
   "cell_type": "markdown",
   "metadata": {},
   "source": [
    "## Prices"
   ]
  },
  {
   "cell_type": "code",
   "execution_count": 14,
   "metadata": {},
   "outputs": [],
   "source": [
    "for w in [7, 28]:\n",
    "    train[f'sell_price_rolling_{w}_mean'] = train.groupby(['id_'])['sell_price'].apply(lambda x: x.rolling(w, 1).mean())\n",
    "    train[f'sell_price_rolling_{w}_std'] = train.groupby(['id_'])['sell_price'].apply(lambda x: x.rolling(w, 1).std())\n",
    "    train[f'sell_price_rolling_{w}_max'] = train.groupby(['id_'])['sell_price'].apply(lambda x: x.rolling(w, 1).max())\n",
    "    train[f'sell_price_rolling_{w}_min'] = train.groupby(['id_'])['sell_price'].apply(lambda x: x.rolling(w, 1).min())\n",
    "  \n",
    "    train[f'sell_price_ewm_{w}_mean'] = train.groupby(['id_'])['sell_price'].apply(lambda x: x.ewm(span=w).mean())\n",
    "    \n",
    "    train = reduce_mem_usage(train)"
   ]
  },
  {
   "cell_type": "markdown",
   "metadata": {},
   "source": [
    "## Category"
   ]
  },
  {
   "cell_type": "code",
   "execution_count": 15,
   "metadata": {},
   "outputs": [],
   "source": [
    "for col in train.select_dtypes(include='category').columns.tolist() + train.select_dtypes(include='object').columns.tolist():\n",
    "    train[col] = LabelEncoder().fit_transform(list(train[col].astype(str).values))\n",
    "    \n",
    "train = reduce_mem_usage(train)\n",
    "gc.collect()"
   ]
  },
  {
   "cell_type": "code",
   "execution_count": 16,
   "metadata": {},
   "outputs": [],
   "source": [
    "train['state_event_name'] = train['state_id'].astype(str) + '__' + train['event_name_1'].astype(str)\n",
    "train['state_event_name'] = LabelEncoder().fit_transform(list(train['state_event_name'].astype(str).values))\n",
    "\n",
    "train['state_event_type'] = train['state_id'].astype(str) + '__' + train['event_type_1'].astype(str)\n",
    "train['state_event_type'] = LabelEncoder().fit_transform(list(train['state_event_type'].astype(str).values))\n",
    "\n",
    "train['cat_state']        = train['cat_id'].astype(str) + '__' + train['state_id'].astype(str)\n",
    "train['cat_state']        = LabelEncoder().fit_transform(list(train['cat_state'].astype(str).values))\n",
    "\n",
    "train['month_item_id']    = train['month'].astype(str) + '__' + train['item_id'].astype(str)\n",
    "train['month_item_id']    = LabelEncoder().fit_transform(list(train['month_item_id'].astype(str).values))\n",
    "\n",
    "train['item_event_name']  = train['item_id'].astype(str) + '__' + train['event_name_1'].astype(str)\n",
    "train['item_event_name']  = LabelEncoder().fit_transform(list(train['item_event_name'].astype(str).values))\n",
    "\n",
    "train['item_event_type']  = train['item_id'].astype(str) + '__' + train['event_type_1'].astype(str)\n",
    "train['item_event_type']  = LabelEncoder().fit_transform(list(train['item_event_type'].astype(str).values))\n",
    "\n",
    "train = reduce_mem_usage(train)\n",
    "gc.collect()"
   ]
  },
  {
   "cell_type": "markdown",
   "metadata": {},
   "source": [
    "# Make Validation Datasets"
   ]
  },
  {
   "cell_type": "markdown",
   "metadata": {},
   "source": [
    "## Trim Datasets"
   ]
  },
  {
   "cell_type": "code",
   "execution_count": 17,
   "metadata": {},
   "outputs": [],
   "source": [
    "train = train[~train['target_365'].isnull()]\n",
    "\n",
    "train.drop(['id', 'date', 'wm_yr_wk'], axis=1, inplace=True)"
   ]
  },
  {
   "cell_type": "code",
   "execution_count": 18,
   "metadata": {},
   "outputs": [],
   "source": [
    "for col in train.columns:\n",
    "    train[col] = replace_inf2nan(train[col])"
   ]
  },
  {
   "cell_type": "code",
   "execution_count": 19,
   "metadata": {},
   "outputs": [],
   "source": [
    "train = reduce_mem_usage(train)\n",
    "gc.collect()"
   ]
  },
  {
   "cell_type": "code",
   "execution_count": 20,
   "metadata": {},
   "outputs": [],
   "source": [
    "train = train[train['part']==0].drop(['part'], axis=1)\n",
    "\n",
    "val_d = pd.unique(train['d'])[-28:]\n",
    "\n",
    "val = train[train['d'].isin(val_d)]\n",
    "train = train[~train['d'].isin(val_d)]\n",
    "\n",
    "val.drop(['d'], axis=1, inplace=True)\n",
    "train.drop(['d'], axis=1, inplace=True)\n",
    "\n",
    "X_val = val.drop(['target'], axis=1)\n",
    "y_val = val['target']\n",
    "X_train = train.drop(['target'], axis=1)\n",
    "y_train = train['target']\n",
    "\n",
    "X_val = reduce_mem_usage(X_val)\n",
    "X_train = reduce_mem_usage(X_train)\n",
    "\n",
    "del train, val\n",
    "gc.collect()"
   ]
  },
  {
   "cell_type": "code",
   "execution_count": 21,
   "metadata": {},
   "outputs": [],
   "source": [
    "test = train[train['part'].isin([1, 2])].drop(['part'], axis=1)\n",
    "train = train[train['part']==0].drop(['part'], axis=1)\n",
    "\n",
    "test.drop(['d'], axis=1, inplace=True)\n",
    "train.drop(['d'], axis=1, inplace=True)\n",
    "\n",
    "X_test = test.drop(['target', 'd'], axis=1)\n",
    "\n",
    "X_train = train.drop(['target', 'd'], axis=1)\n",
    "y_train = train['target']\n",
    "\n",
    "del train, test\n",
    "gc.collect()"
   ]
  },
  {
   "cell_type": "markdown",
   "metadata": {},
   "source": [
    "# Modeling"
   ]
  },
  {
   "cell_type": "code",
   "execution_count": 22,
   "metadata": {},
   "outputs": [],
   "source": [
    "def objective(trial):\n",
    "    num_leaves = trial.suggest_loguniform('num_leaves', 31, 100)\n",
    "    learning_rate = trial.suggest_loguniform('learning_rate', 0.01, 1)\n",
    "    n_estimators = trial.suggest_loguniform('n_estimators', 1000, 10000)\n",
    "    reg_alpha = trial.suggest_loguniform('reg_alpha', 0.01, 1.0)\n",
    "    reg_lambda = trial.suggest_loguniform('reg_lambda', 0.01, 1.0)\n",
    "\n",
    "    tu_params = {\n",
    "        'num_leaves': int(num_leaves),\n",
    "        'learning_rate': learning_rate,\n",
    "        'n_estimators': int(n_estimators),\n",
    "        'reg_alpha': reg_alpha,\n",
    "        'reg_lambda': reg_lambda,\n",
    "        # constant\n",
    "        'max_depth': -1,\n",
    "        'objective': 'regression',\n",
    "        'random_state': 42,\n",
    "        'n_jobs' : -1\n",
    "    }\n",
    "    \n",
    "    lgb_reg = lgb.LGBMRegressor(**tu_params)\n",
    "    lgb_reg.fit(X_fit.values, y_fit.values)\n",
    "\n",
    "    pred = lgb_reg.predict(X_val.values)\n",
    "\n",
    "    return np.sqrt(mean_squared_error(y_val, pred))\n",
    "\n",
    "study = optuna.create_study()\n",
    "study.optimize(objective, n_trials=25)"
   ]
  },
  {
   "cell_type": "code",
   "execution_count": 23,
   "metadata": {},
   "outputs": [],
   "source": [
    "lgb_params = {\n",
    "        'num_leaves': 56,\n",
    "        'learning_rate': 0.040440091240782024,\n",
    "        'n_estimators': 5993,\n",
    "        'reg_alpha': 0.1906787862387116,\n",
    "        'reg_lambda': 0.23603397158316272,\n",
    "        # constant\n",
    "        'max_depth': -1,\n",
    "        'objective': 'regression',\n",
    "        'random_state': 42,\n",
    "        'n_jobs' : -1\n",
    "    }\n",
    "\n",
    "lgb_reg = lgb.LGBMRegressor(**lgb_params)\n",
    "lgb_reg.fit(train.drop(['target'], axis=1).values, train['target'].values)"
   ]
  },
  {
   "cell_type": "code",
   "execution_count": 24,
   "metadata": {},
   "outputs": [],
   "source": [
    "# submission['target'] = lgb_reg.predict(test.drop(['target'], axis=1).values)\n",
    "# submission = submission.pivot(index='id', columns='d', values='target').reset_index()\n",
    "\n",
    "# sample_submission = reduce_mem_usage(pd.read_csv('../input/sample_submission.csv'))\n",
    "# validation_rows = [row for row in sample_submission['id'] if 'validation' in row] \n",
    "# validation = submission[submission['id'].isin(validation_rows)].dropna(axis=1)\n",
    "# evaluation = submission[~submission['id'].isin(validation_rows)].dropna(axis=1)\n",
    "\n",
    "# submission_columns = sample_submission.columns\n",
    "# validation.columns = submission_columns\n",
    "# evaluation.columns = submission_columns\n",
    "\n",
    "# final = pd.concat([validation, evaluation])\n",
    "# final = sample_submission[['id']].merge(final, on='id', how='left')\n",
    "# final.to_csv('../submission/submission10.csv', index=False)"
   ]
  },
  {
   "cell_type": "code",
   "execution_count": null,
   "metadata": {},
   "outputs": [],
   "source": []
  }
 ],
 "metadata": {
  "kernelspec": {
   "display_name": "Python 3",
   "language": "python",
   "name": "python3"
  },
  "language_info": {
   "codemirror_mode": {
    "name": "ipython",
    "version": 3
   },
   "file_extension": ".py",
   "mimetype": "text/x-python",
   "name": "python",
   "nbconvert_exporter": "python",
   "pygments_lexer": "ipython3",
   "version": "3.7.0"
  }
 },
 "nbformat": 4,
 "nbformat_minor": 2
}
